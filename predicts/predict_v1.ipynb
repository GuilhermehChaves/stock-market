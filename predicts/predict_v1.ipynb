{
  "nbformat": 4,
  "nbformat_minor": 0,
  "metadata": {
    "colab": {
      "name": "action.ipynb",
      "provenance": [],
      "collapsed_sections": []
    },
    "kernelspec": {
      "name": "python3",
      "display_name": "Python 3"
    }
  },
  "cells": [
    {
      "cell_type": "code",
      "metadata": {
        "id": "Kn7epriiKFTa"
      },
      "source": [
        "%matplotlib inline\n",
        "\n",
        "import pandas as pd\n",
        "import numpy as np\n",
        "import matplotlib.pyplot as plt\n",
        "import matplotlib.pyplot as pyplot\n",
        "import xlrd\n",
        "import seaborn as sb\n",
        "import seaborn as sns; sns.set()\n",
        "\n",
        "from sklearn.decomposition import PCA\n",
        "from sklearn.preprocessing import MinMaxScaler\n",
        "from sklearn.preprocessing import StandardScaler\n",
        "from sklearn.utils import shuffle\n",
        "from sklearn.preprocessing import OneHotEncoder\n",
        "from sklearn.model_selection import train_test_split\n",
        "from sklearn.metrics import confusion_matrix\n",
        "from sklearn import datasets\n",
        "from sklearn import linear_model\n",
        "from sklearn import svm\n",
        "\n",
        "import tensorflow as tf"
      ],
      "execution_count": 56,
      "outputs": []
    },
    {
      "cell_type": "code",
      "metadata": {
        "id": "Py28NoylL9um"
      },
      "source": [
        "columns = [\"cotacao\",\"P/L\",\"P/VP\",\"PSR\", \"div.yield\", \n",
        "           \"P/ativo\",\"P/cap.giro\",\"P/EBIT\",\"P/ativ_circ.liq\", \"EV/EBIT\", \n",
        "           \"EV/EBITDA\",\"mrg_ebit\",\"mrg.Liq\",\"liq.corr\",\"ROIC\", \n",
        "           \"ROE\",\"liq.2meses\",\"patrim.liq\", \"div.brut/patrim\",\"cresc.rec.5a\"]\n",
        "\n",
        "data = pd.read_csv(\"https://raw.githubusercontent.com/GuilhermehChaves/stock-market/main/data.csv\")\n",
        "data.tail()"
      ],
      "execution_count": null,
      "outputs": []
    },
    {
      "cell_type": "code",
      "metadata": {
        "id": "iCVd1kh3TItw"
      },
      "source": [
        "data.hist([\"cotacao\",\"P/L\",\"P/VP\",\"PSR\", \"div.yield\", \n",
        "           \"P/ativo\",\"P/cap.giro\",\"P/EBIT\",\"P/ativ_circ.liq\", \"EV/EBIT\", \n",
        "           \"EV/EBITDA\",\"mrg_ebit\",\"mrg.Liq\",\"liq.corr\",\"ROIC\", \n",
        "           \"ROE\",\"liq.2meses\",\"patrim.liq\", \"div.brut/patrim\",\"cresc.rec.5a\"], figsize = (15,15))"
      ],
      "execution_count": null,
      "outputs": []
    },
    {
      "cell_type": "code",
      "metadata": {
        "id": "CAwSvSzRxACe"
      },
      "source": [
        "data.query(\"papel == 'BIDI4'\").values"
      ],
      "execution_count": null,
      "outputs": []
    },
    {
      "cell_type": "markdown",
      "metadata": {
        "id": "vonD4aFZUtoG"
      },
      "source": [
        "# Correlação"
      ]
    },
    {
      "cell_type": "code",
      "metadata": {
        "id": "txJDTpTpU2K0"
      },
      "source": [
        "correlation = (pd.DataFrame(data, columns = columns)).corr()"
      ],
      "execution_count": 129,
      "outputs": []
    },
    {
      "cell_type": "code",
      "metadata": {
        "id": "RVvHsu5iVX_u"
      },
      "source": [
        "import numpy\n",
        "\n",
        "fig = plt.figure(figsize = (45,45))\n",
        "ax = fig.add_subplot(111)\n",
        "fig.subplots_adjust(top = 0.6)\n",
        "cax = ax.matshow(correlation, vmin = -1, vmax = 1, cmap = \"hot\")\n",
        "fig.colorbar(cax)\n",
        "ticks = numpy.arange(0,20,1)\n",
        "\n",
        "ax.set_xticks(ticks)\n",
        "ax.set_yticks(ticks)\n",
        "\n",
        "ax.set_xticklabels(columns, size = '12')\n",
        "ax.set_yticklabels(columns, size = '12')\n",
        "plt.show()"
      ],
      "execution_count": null,
      "outputs": []
    },
    {
      "cell_type": "markdown",
      "metadata": {
        "id": "odRwmKtXf8zB"
      },
      "source": [
        "# Padronização"
      ]
    },
    {
      "cell_type": "code",
      "metadata": {
        "id": "gkMSfu1djo-R"
      },
      "source": [
        "scaler_x = MinMaxScaler()\n",
        "data[columns[1:]] = scaler_x.fit_transform(data[columns[1:]])\n",
        "data.tail()\n",
        "\n",
        "scaler_y = MinMaxScaler()\n",
        "data[['cotacao']] = scaler_y.fit_transform(data[['cotacao']])\n",
        "\n",
        "x = data.drop('cotacao', axis = 1)\n",
        "y = data.cotacao"
      ],
      "execution_count": 131,
      "outputs": []
    },
    {
      "cell_type": "markdown",
      "metadata": {
        "id": "9ntmQ1s8lRrM"
      },
      "source": [
        "# Treinamento"
      ]
    },
    {
      "cell_type": "code",
      "metadata": {
        "id": "up2RaNyTlUCv"
      },
      "source": [
        "columns_predictors = columns[1:]\n",
        "cols = [tf.feature_column.numeric_column(key = c) for c in columns_predictors]\n",
        "x_train, x_test, y_train, y_test = train_test_split(x,y, test_size = 0.3)"
      ],
      "execution_count": 132,
      "outputs": []
    },
    {
      "cell_type": "code",
      "metadata": {
        "id": "5Tr5LCikoBSQ"
      },
      "source": [
        "training_function = tf.compat.v1.estimator.inputs.pandas_input_fn(x = x_train, y = y_train, batch_size = 32, num_epochs = None, shuffle = True)\n",
        "test_function = tf.compat.v1.estimator.inputs.pandas_input_fn(x = x_test, y = y_test, batch_size = 32, num_epochs = 1000, shuffle = False)"
      ],
      "execution_count": 133,
      "outputs": []
    },
    {
      "cell_type": "code",
      "metadata": {
        "id": "wMgVR4i8oh2V"
      },
      "source": [
        "regressor = tf.estimator.LinearRegressor(feature_columns = cols)\n",
        "regressor.train(input_fn = training_function, steps = 10000)"
      ],
      "execution_count": null,
      "outputs": []
    },
    {
      "cell_type": "code",
      "metadata": {
        "id": "WSjkK_nBpOf8"
      },
      "source": [
        "training_metrics = regressor.evaluate(input_fn = training_function, steps = 10000)\n",
        "test_metrics = regressor.evaluate(input_fn = test_function, steps = 10000)"
      ],
      "execution_count": null,
      "outputs": []
    },
    {
      "cell_type": "markdown",
      "metadata": {
        "id": "SWpPiW43qyVG"
      },
      "source": [
        "# Previsões"
      ]
    },
    {
      "cell_type": "code",
      "metadata": {
        "id": "nxQPosBJpcJz"
      },
      "source": [
        "forecast_function = tf.compat.v1.estimator.inputs.pandas_input_fn(x = x_test, shuffle = False)\n",
        "forecasts = regressor.predict(input_fn = forecast_function)"
      ],
      "execution_count": 136,
      "outputs": []
    },
    {
      "cell_type": "code",
      "metadata": {
        "id": "dZ5x0bF3qBiW"
      },
      "source": [
        "forecast_values = []\n",
        "\n",
        "for p in regressor.predict(input_fn = forecast_function):\n",
        "    forecast_values.append(p['predictions'])\n",
        "\n",
        "forecast_values"
      ],
      "execution_count": null,
      "outputs": []
    },
    {
      "cell_type": "markdown",
      "metadata": {
        "id": "WsGwfmUXq4bG"
      },
      "source": [
        "## Desnormalizando dados"
      ]
    },
    {
      "cell_type": "code",
      "metadata": {
        "id": "sb9fuaWsqb9l"
      },
      "source": [
        "forecast_values = np.asarray(forecast_values).reshape(-1, 1)\n",
        "forecast_values = scaler_y.inverse_transform(forecast_values)"
      ],
      "execution_count": 138,
      "outputs": []
    },
    {
      "cell_type": "code",
      "metadata": {
        "id": "0th7Kh2frG8j"
      },
      "source": [
        "y_test2 = y_test.values.reshape(-1, 1)\n",
        "y_test2 = scaler_y.inverse_transform(y_test2)"
      ],
      "execution_count": 139,
      "outputs": []
    },
    {
      "cell_type": "code",
      "metadata": {
        "id": "Gh2Uhe6irUxb",
        "outputId": "518f9a82-4179-43a4-e621-7e4b7134fd77",
        "colab": {
          "base_uri": "https://localhost:8080/",
          "height": 34
        }
      },
      "source": [
        "from sklearn.metrics import mean_absolute_error\n",
        "\n",
        "meanAbsoluteError = mean_absolute_error(y_test2, forecast_values)\n",
        "print(meanAbsoluteError)"
      ],
      "execution_count": 140,
      "outputs": [
        {
          "output_type": "stream",
          "text": [
            "63.315436460343044\n"
          ],
          "name": "stdout"
        }
      ]
    },
    {
      "cell_type": "code",
      "metadata": {
        "id": "TrW98_pnsO1d"
      },
      "source": [
        "df = pd.DataFrame()\n",
        "df['real'] = pd.Series(y_test2.flatten())\n",
        "df['previsto'] = pd.Series(forecast_values.flatten())"
      ],
      "execution_count": 141,
      "outputs": []
    },
    {
      "cell_type": "code",
      "metadata": {
        "id": "GqNFXKEUv8y7"
      },
      "source": [
        "df.plot()"
      ],
      "execution_count": null,
      "outputs": []
    }
  ]
}