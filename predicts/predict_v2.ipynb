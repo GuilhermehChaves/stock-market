{
  "nbformat": 4,
  "nbformat_minor": 0,
  "metadata": {
    "colab": {
      "name": "action3.ipynb",
      "provenance": [],
      "collapsed_sections": []
    },
    "kernelspec": {
      "name": "python3",
      "display_name": "Python 3"
    }
  },
  "cells": [
    {
      "cell_type": "code",
      "metadata": {
        "id": "vBk2G5CelA3U"
      },
      "source": [
        "!pip install -q seaborn"
      ],
      "execution_count": 30,
      "outputs": []
    },
    {
      "cell_type": "code",
      "metadata": {
        "id": "N_DK7B1vk5tO"
      },
      "source": [
        "from sklearn.model_selection import train_test_split\n",
        "from sklearn.preprocessing import MinMaxScaler\n",
        "\n",
        "import matplotlib.pyplot as plt\n",
        "import pandas as pd\n",
        "import seaborn as sns\n",
        "\n",
        "import tensorflow as tf\n",
        "\n",
        "from tensorflow import keras\n",
        "from tensorflow.keras import layers\n",
        "\n",
        "from google.colab import drive"
      ],
      "execution_count": 31,
      "outputs": []
    },
    {
      "cell_type": "markdown",
      "metadata": {
        "id": "4SChAY0royz6"
      },
      "source": [
        "# Recuperando dados"
      ]
    },
    {
      "cell_type": "code",
      "metadata": {
        "id": "Y-r-Cf6GlI6D"
      },
      "source": [
        "columns = [\"cotacao\",\"P/L\",\"P/VP\",\"PSR\", \"div.yield\", \n",
        "           \"P/ativo\",\"P/cap.giro\",\"P/EBIT\",\"P/ativ_circ.liq\", \"EV/EBIT\", \n",
        "           \"EV/EBITDA\",\"mrg_ebit\",\"mrg.Liq\",\"liq.corr\",\"ROIC\", \n",
        "           \"ROE\",\"liq.2meses\",\"patrim.liq\", \"div.brut/patrim\",\"cresc.rec.5a\"]\n",
        "\n",
        "data = pd.read_csv(\"https://raw.githubusercontent.com/GuilhermehChaves/stock-market/main/data.csv\", usecols=columns)\n",
        "data.tail()"
      ],
      "execution_count": null,
      "outputs": []
    },
    {
      "cell_type": "markdown",
      "metadata": {
        "id": "HRfu8eHqotwY"
      },
      "source": [
        "# Normalizando dados"
      ]
    },
    {
      "cell_type": "code",
      "metadata": {
        "id": "KtZ9luf2lJKD"
      },
      "source": [
        "scaler_x = MinMaxScaler()\n",
        "data[columns[1:]] = scaler_x.fit_transform(data[columns[1:]])\n",
        "data.tail()\n",
        "\n",
        "scaler_y = MinMaxScaler()\n",
        "data[['cotacao']] = scaler_y.fit_transform(data[['cotacao']])\n",
        "\n",
        "x = data.drop('cotacao', axis = 1)\n",
        "y = data.cotacao"
      ],
      "execution_count": 33,
      "outputs": []
    },
    {
      "cell_type": "markdown",
      "metadata": {
        "id": "stNb-gYHoojq"
      },
      "source": [
        "# Separando dados de teste e previsão"
      ]
    },
    {
      "cell_type": "code",
      "metadata": {
        "id": "xTRGV7xvlsRR"
      },
      "source": [
        "columns_predictors = columns[1:]\n",
        "cols = [tf.feature_column.numeric_column(key = c) for c in columns_predictors]\n",
        "x_train, x_test, y_train, y_test = train_test_split(x,y, test_size = 0.3)"
      ],
      "execution_count": 34,
      "outputs": []
    },
    {
      "cell_type": "markdown",
      "metadata": {
        "id": "51_VyebloATU"
      },
      "source": [
        "# Construindo o modelo"
      ]
    },
    {
      "cell_type": "code",
      "metadata": {
        "id": "ugWKQZcvkdAP"
      },
      "source": [
        "def build_model():\n",
        "  model = keras.Sequential([\n",
        "    layers.Dense(64, activation='relu', input_shape=[len(x_train.keys())]),\n",
        "    layers.Dense(64, activation='relu'),\n",
        "    layers.Dense(1)\n",
        "  ])\n",
        "\n",
        "  optimizer = tf.keras.optimizers.RMSprop(0.001)\n",
        "\n",
        "  model.compile(loss='mse',\n",
        "                optimizer=optimizer,\n",
        "                metrics=['mae', 'mse'])\n",
        "  return model"
      ],
      "execution_count": 35,
      "outputs": []
    },
    {
      "cell_type": "code",
      "metadata": {
        "id": "NgRohLqAkh_Q"
      },
      "source": [
        "model = build_model()\n",
        "model.summary()"
      ],
      "execution_count": null,
      "outputs": []
    },
    {
      "cell_type": "markdown",
      "metadata": {
        "id": "Bae71eJOoD3j"
      },
      "source": [
        "# Treinando o modelo"
      ]
    },
    {
      "cell_type": "code",
      "metadata": {
        "id": "_5SY9cIKkk67"
      },
      "source": [
        "class PrintDot(keras.callbacks.Callback):\n",
        "  def on_epoch_end(self, epoch, logs):\n",
        "    if epoch % 100 == 0: print('')\n",
        "    print('.', end='')\n",
        "\n",
        "EPOCHS = 1000\n",
        "\n",
        "history = model.fit(\n",
        "  x_train, y_train,\n",
        "  epochs=EPOCHS, validation_split = 0.2, verbose=0,\n",
        "  callbacks=[PrintDot()])"
      ],
      "execution_count": null,
      "outputs": []
    },
    {
      "cell_type": "code",
      "metadata": {
        "id": "GWiRj4LfknnM"
      },
      "source": [
        "hist = pd.DataFrame(history.history)\n",
        "hist['epoch'] = history.epoch\n",
        "hist.tail()"
      ],
      "execution_count": null,
      "outputs": []
    },
    {
      "cell_type": "markdown",
      "metadata": {
        "id": "cQVsLqd1oHBS"
      },
      "source": [
        "# Plotando métricas"
      ]
    },
    {
      "cell_type": "code",
      "metadata": {
        "id": "G5fuEj7Ikpfj"
      },
      "source": [
        "def plot_history(history):\n",
        "  hist = pd.DataFrame(history.history)\n",
        "  hist['epoch'] = history.epoch\n",
        "\n",
        "  plt.figure()\n",
        "  plt.xlabel('Epoch')\n",
        "  plt.ylabel('Mean Abs Error [cotacao]')\n",
        "  plt.plot(hist['epoch'], hist['mae'],\n",
        "           label='Train Error')\n",
        "  plt.plot(hist['epoch'], hist['val_mae'],\n",
        "           label = 'Val Error')\n",
        "  plt.ylim([0,5])\n",
        "  plt.legend()\n",
        "\n",
        "  plt.figure()\n",
        "  plt.xlabel('Epoch')\n",
        "  plt.ylabel('Mean Square Error [$cotacao^2$]')\n",
        "  plt.plot(hist['epoch'], hist['mse'],\n",
        "           label='Train Error')\n",
        "  plt.plot(hist['epoch'], hist['val_mse'],\n",
        "           label = 'Val Error')\n",
        "  plt.ylim([0,20])\n",
        "  plt.legend()\n",
        "  plt.show()\n",
        "\n",
        "\n",
        "plot_history(history)"
      ],
      "execution_count": null,
      "outputs": []
    },
    {
      "cell_type": "code",
      "metadata": {
        "id": "YWp_9fkikt8k"
      },
      "source": [
        "model = build_model()\n",
        "\n",
        "early_stop = keras.callbacks.EarlyStopping(monitor='val_loss', patience=10)\n",
        "\n",
        "history = model.fit(x_train, y_train, epochs=EPOCHS,\n",
        "                    validation_split = 0.2, verbose=0, callbacks=[early_stop, PrintDot()])\n",
        "\n",
        "plot_history(history)"
      ],
      "execution_count": null,
      "outputs": []
    },
    {
      "cell_type": "code",
      "metadata": {
        "id": "XoyrKEzmkun1"
      },
      "source": [
        "loss, mae, mse = model.evaluate(x_test, y_test, verbose=2)\n",
        "\n",
        "print(\"Testing set Mean Abs Error: {:5.2f} cotacao\".format(mae))"
      ],
      "execution_count": null,
      "outputs": []
    },
    {
      "cell_type": "markdown",
      "metadata": {
        "id": "cC1oI_HkoMXS"
      },
      "source": [
        "# Realizando previsões"
      ]
    },
    {
      "cell_type": "code",
      "metadata": {
        "id": "A3TuzapGkxWj"
      },
      "source": [
        "test_predictions = model.predict(x_test).flatten()\n",
        "\n",
        "plt.scatter(y_test, test_predictions)\n",
        "plt.xlabel('True Values [cotacao]')\n",
        "plt.ylabel('Predictions [cotacao]')\n",
        "plt.axis('equal')\n",
        "plt.axis('square')\n",
        "plt.xlim([0,plt.xlim()[1]])\n",
        "plt.ylim([0,plt.ylim()[1]])\n",
        "_ = plt.plot([-100, 100], [-100, 100])"
      ],
      "execution_count": null,
      "outputs": []
    },
    {
      "cell_type": "code",
      "metadata": {
        "id": "MeRYMjLvkze0"
      },
      "source": [
        "error = test_predictions - y_test\n",
        "plt.hist(error, bins = 25)\n",
        "plt.xlabel(\"Prediction Error [cotacao]\")\n",
        "_ = plt.ylabel(\"Count\")"
      ],
      "execution_count": null,
      "outputs": []
    }
  ]
}